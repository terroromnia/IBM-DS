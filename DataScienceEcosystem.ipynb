{
 "cells": [
  {
   "cell_type": "markdown",
   "id": "4a996cb7-152a-4513-baf1-d623dc5eaa36",
   "metadata": {},
   "source": [
    "# Data Science Tools and Ecosystem"
   ]
  },
  {
   "cell_type": "markdown",
   "id": "a5760d39-3cbb-4e49-8bab-d148c5609b58",
   "metadata": {},
   "source": [
    "In this notebook, Data Science Tools and Ecosystem are summarized."
   ]
  },
  {
   "cell_type": "markdown",
   "id": "361e40e8-1bcb-4232-ad73-bbdf69f799e8",
   "metadata": {},
   "source": [
    "**Objectives:**\n",
    "* Languages of Data Science\n",
    "* Commonly used Libraries for Data Science\n",
    "* Commonly used OpenSource Development Environments\n",
    "* Arithmetic Expressions\n"
   ]
  },
  {
   "cell_type": "markdown",
   "id": "499f78a1-1076-46a7-98f3-bfa2e63ab7d0",
   "metadata": {},
   "source": [
    "Some of the popular languages that Data Scientists use are:\n",
    "1. Python\n",
    "2. R\n",
    "3. Java\n",
    "4. C\n",
    "5. C++\n",
    "6. Julia"
   ]
  },
  {
   "cell_type": "markdown",
   "id": "37613b3f-8aa9-48d0-a023-d4cbb7eee0aa",
   "metadata": {},
   "source": [
    "Some of the commonly used libraries used by Data Scientists include:\n",
    "1. ggplot2\n",
    "2. caret\n",
    "3. stringr\n",
    "4. dplyr"
   ]
  },
  {
   "cell_type": "markdown",
   "id": "33aeea74-0c86-4e24-b4b3-dff923ea8163",
   "metadata": {},
   "source": [
    "|Data Science Tools|\n",
    "|--------------------|\n",
    "|Jupyter Notebook|\n",
    "|RStudio|\n",
    "|Visual Studio|"
   ]
  },
  {
   "cell_type": "markdown",
   "id": "996d5ddc-0256-4b5a-a54b-e15b61fb4cec",
   "metadata": {},
   "source": [
    "### Below are a few examples of evaluating arithmetic expressions in Python."
   ]
  },
  {
   "cell_type": "code",
   "execution_count": 7,
   "id": "7a3a6bc2-ecf0-475f-8ce8-0c3388b12f0a",
   "metadata": {},
   "outputs": [
    {
     "data": {
      "text/plain": [
       "17"
      ]
     },
     "execution_count": 7,
     "metadata": {},
     "output_type": "execute_result"
    }
   ],
   "source": [
    "#This is a example of mathematical expressions and integer addition\n",
    "(3*4)+5"
   ]
  },
  {
   "cell_type": "code",
   "execution_count": 9,
   "id": "3f2b331b-c352-4aaa-a32c-51d27c6d3484",
   "metadata": {},
   "outputs": [
    {
     "data": {
      "text/plain": [
       "3.3333333333333335"
      ]
     },
     "execution_count": 9,
     "metadata": {},
     "output_type": "execute_result"
    }
   ],
   "source": [
    "#This is an expression to convert minutes in hours (60 min = 1 hours) -> h = min/60\n",
    "200/60"
   ]
  },
  {
   "cell_type": "markdown",
   "id": "727d3b6e-1ac8-49c5-873f-84c7c509667f",
   "metadata": {},
   "source": [
    "## Author\n",
    "Enrico Sorrenti "
   ]
  }
 ],
 "metadata": {
  "kernelspec": {
   "display_name": "Python 3 (ipykernel)",
   "language": "python",
   "name": "python3"
  },
  "language_info": {
   "codemirror_mode": {
    "name": "ipython",
    "version": 3
   },
   "file_extension": ".py",
   "mimetype": "text/x-python",
   "name": "python",
   "nbconvert_exporter": "python",
   "pygments_lexer": "ipython3",
   "version": "3.13.2"
  }
 },
 "nbformat": 4,
 "nbformat_minor": 5
}
